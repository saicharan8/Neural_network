import pandas as pd
import matplotlib.pyplot as plt
df = pd.read_csv('data.csv') # reading CSV file
df.head()
df.describe() # describing the Statistical data
df.fillna(df.mean(), inplace=True) # replacing the NULL values with mean
df[['Calories', 'Maxpulse']].agg(['min', 'max', 'count', 'mean']) # selecting two columns and aggregating the data
df[(df['Calories'] >= 500) & (df['Calories'] <= 1000)] # selecting rows between 500 and 1000
df[(df['Calories'] > 500) & (df['Pulse'] < 100)] # selecting rows greater than 500 and less than 1000
df_modified = df.drop('Maxpulse', axis=1) #contains all columns except Maxpulse
df = df.drop('Maxpulse', axis=1) #deleting 'Maxpulse Column from main dataframe
print(df)
df['Calories'] = df['Calories'].astype(int) # converting calories to int datatype
plt.scatter(df['Duration'], df['Calories']) #plotting the data using the matplot lib
plt.xlabel("Duration") #xaxis
plt.ylabel("Calories") #yaxis
plt.show() # displaying the Scatter Plot
     
import pandas as pd
from sklearn.metrics import mean_squared_error
import matplotlib.pyplot as plt
from sklearn.linear_model import LinearRegression
from sklearn.model_selection import train_test_split

salariesData = pd.read_csv('Salary_Data.csv') #importing data from the CSV file

#splitting the data into training and testing
X = salariesData.iloc[:, :-1].values
Y= salariesData.iloc[:, 1].values

#splitting 1/3 of the data as testsubset
X_train, X_test, Y_train, Y_test = train_test_split(X, Y, test_size = 1/3, random_state = 0)

# Fitting Simple Linear Regression to the training set
reg = LinearRegression()
reg.fit(X_train, Y_train)

# Predicting the Test set result
pred = reg.predict(X_test)

# Calculating the Mean_squared_error
mse = mean_squared_error(Y_test, pred)

#Visualising the Training set results and Test set results
plt.scatter(X_train, Y_train, color = 'blue')
plt.scatter(X_test, Y_test, color = 'red')
plt.title('Salary Data')
plt.xlabel('Experience (Years)')
plt.ylabel('Salary')
plt.show()
