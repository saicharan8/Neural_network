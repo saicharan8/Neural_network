{
 "cells": [
  {
   "cell_type": "code",
   "execution_count": 4,
   "metadata": {},
   "outputs": [
    {
     "name": "stdout",
     "output_type": "stream",
     "text": [
      "Full name: good evening\n",
      "Alternate characters in full name: go vnn\n"
     ]
    }
   ],
   "source": [
    "def string_alternative(input_string):\n",
    "    return input_string[::2]\n",
    "\n",
    "def main():\n",
    "    first_name = input(\"Enter your first name: \")\n",
    "    last_name = input(\"Enter your last name: \")\n",
    "    \n",
    "    full_name = first_name + \" \" + last_name\n",
    "    \n",
    "    alternate_chars = string_alternative(full_name)\n",
    "    \n",
    "    print(\"Full name:\", full_name)\n",
    "    print(\"Alternate characters in full name:\", alternate_chars)\n",
    "\n",
    "if __name__ == \"__main__\":\n",
    "    main()"
   ]
  },
  {
   "cell_type": "code",
   "execution_count": 15,
   "metadata": {},
   "outputs": [
    {
     "name": "stdout",
     "output_type": "stream",
     "text": [
      "Output:\n",
      "Python Course\n",
      "Deep Learning Course\n",
      "Word_Count:\n",
      "Python: 1\n",
      "Course: 2\n",
      "Deep: 1\n",
      "Learning: 1\n"
     ]
    }
   ],
   "source": [
    "def count_words(line):\n",
    "    word_count = {}\n",
    "    words = line.split()\n",
    "    for word in words:\n",
    "        if word in word_count:\n",
    "            word_count[word] += 1\n",
    "        else:\n",
    "            word_count[word] = 1\n",
    "    return word_count\n",
    "\n",
    "def main():\n",
    "    input_filename = 'C:\\\\Users\\\\yadav\\\\OneDrive\\\\Pictures\\\\Documents\\\\input.txt'\n",
    "    output_filename = 'D:\\\\output.txt'\n",
    "    \n",
    "    with open(input_filename, 'r') as input_file:\n",
    "        lines = input_file.readlines()\n",
    "    \n",
    "    word_count_result = {}\n",
    "    \n",
    "    for line in lines:\n",
    "        line = line.strip()\n",
    "        word_count_line = count_words(line)\n",
    "        for word, count in word_count_line.items():\n",
    "            if word in word_count_result:\n",
    "                word_count_result[word] += count\n",
    "            else:\n",
    "                word_count_result[word] = count\n",
    "    \n",
    "    print(\"Output:\")\n",
    "    with open(output_filename, 'w') as output_file:\n",
    "        for line in lines:\n",
    "            line = line.strip()\n",
    "            print(line)\n",
    "            output_file.write(line + '\\n')\n",
    "        print(\"Word_Count:\")\n",
    "        output_file.write(\"Word_Count:\\n\")\n",
    "        for word, count in word_count_result.items():\n",
    "            print(f\"{word}: {count}\")\n",
    "            output_file.write(f\"{word}: {count}\\n\")\n",
    "\n",
    "if __name__ == \"__main__\":\n",
    "    main()\n"
   ]
  },
  {
   "cell_type": "code",
   "execution_count": 16,
   "metadata": {},
   "outputs": [
    {
     "name": "stdout",
     "output_type": "stream",
     "text": [
      "Heights in centimeters (using nested loop): [254.0, 508.0]\n",
      "Heights in centimeters (using list comprehension): [254.0, 508.0]\n"
     ]
    }
   ],
   "source": [
    "def convert_to_cm(inches):\n",
    "    return inches * 2.54\n",
    "\n",
    "def nested_loop_conversion(heights):\n",
    "    cm_heights = []\n",
    "    for inch in heights:\n",
    "        cm = convert_to_cm(inch)\n",
    "        cm_heights.append(cm)\n",
    "    return cm_heights\n",
    "\n",
    "def list_comprehension_conversion(heights):\n",
    "    return [convert_to_cm(inch) for inch in heights]\n",
    "\n",
    "def main():\n",
    "    num_customers = int(input(\"Enter the number of customers: \"))\n",
    "    \n",
    "    heights = []\n",
    "    for i in range(num_customers):\n",
    "        height = float(input(f\"Enter the height (in inches) of customer {i+1}: \"))\n",
    "        heights.append(height)\n",
    "    \n",
    "    nested_cm_heights = nested_loop_conversion(heights)\n",
    "    lc_cm_heights = list_comprehension_conversion(heights)\n",
    "    \n",
    "    print(\"Heights in centimeters (using nested loop):\", nested_cm_heights)\n",
    "    print(\"Heights in centimeters (using list comprehension):\", lc_cm_heights)\n",
    "\n",
    "if __name__ == \"__main__\":\n",
    "    main()\n"
   ]
  }
 ],
 "metadata": {
  "kernelspec": {
   "display_name": "Python 3",
   "language": "python",
   "name": "python3"
  },
  "language_info": {
   "codemirror_mode": {
    "name": "ipython",
    "version": 3
   },
   "file_extension": ".py",
   "mimetype": "text/x-python",
   "name": "python",
   "nbconvert_exporter": "python",
   "pygments_lexer": "ipython3",
   "version": "3.11.0"
  },
  "orig_nbformat": 4
 },
 "nbformat": 4,
 "nbformat_minor": 2
}
